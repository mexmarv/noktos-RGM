{
  "cells": [
    {
      "metadata": {},
      "cell_type": "markdown",
      "source": "<img align=\"center\" width=\"180\" src=\"noktos.jpg\">"
    },
    {
      "metadata": {
        "trusted": true
      },
      "cell_type": "markdown",
      "source": "<h1><center>Revenue Optimization with Dynamic Pricing</center></h1> "
    },
    {
      "metadata": {
        "trusted": true
      },
      "cell_type": "markdown",
      "source": "# Revenue Optimization with Dynamic Pricing\n### Notebook by [Marvin Nahmias](http://www.noktos.com), original work by M.Tavora\n### Table of contents\n\n1. [Dynamic Pricing](#Dynamic-Pricing)\n1. [Problem Statement](#Problem-Statement)\n2. [Code](#Code)\n\n### Import AI Libraries from Python\n<br>"
    },
    {
      "metadata": {
        "trusted": true
      },
      "cell_type": "code",
      "source": "import pandas as pd\nimport numpy as np \nimport psycopg2, scipy, os, calendar, warnings, pickle, math\nimport matplotlib.pyplot as plt\nfrom scipy.optimize import curve_fit\n%matplotlib inline\nimport chart_studio\nimport chart_studio.plotly as py\nimport plotly.graph_objs as go\n\nfrom plotly.offline import download_plotlyjs, init_notebook_mode, plot, iplot\ninit_notebook_mode(connected=True) \nwarnings.filterwarnings('ignore')",
      "execution_count": 12,
      "outputs": [
        {
          "output_type": "display_data",
          "data": {
            "text/html": "        <script type=\"text/javascript\">\n        window.PlotlyConfig = {MathJaxConfig: 'local'};\n        if (window.MathJax) {MathJax.Hub.Config({SVG: {font: \"STIX-Web\"}});}\n        if (typeof require !== 'undefined') {\n        require.undef(\"plotly\");\n        requirejs.config({\n            paths: {\n                'plotly': ['https://cdn.plot.ly/plotly-latest.min']\n            }\n        });\n        require(['plotly'], function(Plotly) {\n            window._Plotly = Plotly;\n        });\n        }\n        </script>\n        "
          },
          "metadata": {}
        }
      ]
    },
    {
      "metadata": {},
      "cell_type": "markdown",
      "source": "## Dynamic Pricing\n[[go back to the top]](#Table-of-contents)\n\nFrom [this](https://www.hospitalitynet.org/opinion/4045046.html) source:\n\n> Dynamic pricing means that a hotel will change its room rates daily or even within a day if up-to-the-minute market information reveals the need for adjustments. It is based on the recognition that the right rate to charge for a room night is what the customer is able and willing to pay.\n\nIn other words, dynamic pricing is the strategy of adjusting prices as a function of a multitude of factors, such as room availability, demand, occupancy and others. \n\nHotels and airline companies have practiced quantity-based RM (Revenue Management) for some time. RM may includes among other things:\n- Offering rooms initially at a lower rate\n- When the number of bookings surpasses the quantity allocated to the less expensive rooms, which we will call segment $A$, rates change to values corresponding to segment $B$ and so on. The size of the segments is kept fixed but its prices vary with time (naturally)."
    },
    {
      "metadata": {},
      "cell_type": "markdown",
      "source": "## Goal\n[[go back to the top]](#Table-of-contents)\n\nThe goal of this notebook is to describe a hotel revenue management (RM) model that can be implemented in practice.\n"
    },
    {
      "metadata": {},
      "cell_type": "markdown",
      "source": "Note that this is a dynamic chart depending on external factors (such as availability, occupancy, weather, market conditions and macroeconomics)."
    },
    {
      "metadata": {},
      "cell_type": "markdown",
      "source": "## Mathematical Formulation\n[[go back to the top]](#Table-of-contents)\n\nThis is a constrained optimization problem. According to [Aziz et al]([this article](https://www.sciencedirect.com/science/article/pii/S1110866511000375#s0030)):\n> To formulate this problem as a price control tactic, we need to change the decision variables to be the prices\nset every day.\n\nThe objective function is:\n\n$$\\sum\\limits_{i = 1}^s {\\sum\\limits_{j = 1}^n {{p_{ij}}} {O_{ij}}}$$\n\nwhere:\n- $j$: night index\n- $p_j$ is the price of the some room segment for night $j$\n- $O_j$ is the (projected) occupancy for night j at price $p_j$. \n- $n$ is the number of nights \n\nThe decision variable of this optimization problem is the price $p_j$ of night $j$. The constraint is:\n\n$$O = O_{\\rm{nominal}}\\bigg( \\frac{p}{p_{\\rm{nominal}}} \\bigg)^{e} $$\n\nwhere $O_{\\rm{nominal}}$ is the forecasted occupancy for a given night based on the rate $p_{\\rm{nominal}}$ i.e.\n\n$$O_{\\rm{nominal}} = f(p_{\\rm{nominal}},...),$$\n\nwhere $p_{\\rm{nominal}}$ is the nominal price of the hotel (usually the average historical price).\n\nWe fix the base rate to a constant $r$ and the elasticity to another constant $e$. This choice of elasticity was based on [this article](https://www.sciencedirect.com/science/article/pii/S1110866511000375#s0030)\n\nIf the hotel has $N_{i}$ rooms in segment i (with $i=A,B,C$ and $D$ i.e. 4 segments in total), the objective function is subject to the following constraints:\n- $O_j \\leq C_j$: the occupancy can't be greater than the number of available rooms $C_j$\n- $p_j \\ge 0$: prices cannot be negative\n\n\nDynamic pricing involves re-running the forecast of the optimal price per night which was set ahead of time and update the values of $O_j$ based on new data (on a daily/weekly basis). Price levels are set based on current occupancy (as mentioned before, the levels increase as the number of available rooms in the hotel decrease).\n\nThis simulated hotel will have four segments. To solve for the optimal price, we must find how many rooms are available and their corresponding price segment. "
    },
    {
      "metadata": {},
      "cell_type": "markdown",
      "source": "## Predicting Occupancy\n[[go back to the top]](#Table-of-contents)"
    },
    {
      "metadata": {
        "trusted": true
      },
      "cell_type": "markdown",
      "source": "We will consider a hotel with four different types of suite $A, B, C$ and $D$ and we will generate predictions for rates of suites type $A$ (making predictions for the others is a trivial extension). Let us suppose that there are $N_A=80$ suites in segment $A$. The room price $p_A$ will be set to $550/night in the high season.\n\nAs previously stated, the aim is to find, based on this baseline prediction, the optimal revenue maximizing prices.\n\nIn the first figure below, the predicted occupancy is plotted. It shows a weekly seasonality and a (weak) trend upward. Weekend peaks are also present as expected. The dashed line indicates the capacity of rooms of type $A$.\n\nNote that this forecast must be updated frequently using reservation/cancellation data. \n\nAs expected, keeping $p_A$ fixed at $550mxn is a suboptimal strategy for reasons such as:\n- Weekdays have lower occupancy and therefore lowering rates would likely increase revenue\n- The revenue at the weekend could benefit from higher prices"
    },
    {
      "metadata": {},
      "cell_type": "markdown",
      "source": "## Code\n[[go back to the top]](#Table-of-contents)"
    },
    {
      "metadata": {},
      "cell_type": "markdown",
      "source": "The following function will simulate the occupancy level for a period of time which we will denote by $N$. The parameters are:\n- `nb_days`: Length of the forecast period (in days)\n- period: Length of the seasonal component. Typically 7 days for weekly fluctuations.\n- dc_level: Baseline occupancy \n- noise_level: This number corresponds to the standard deviation of the normal distribution.\n- amplitude: amplitude of the periodic signal\n- phase: phase shift of the signal \n- trend: slope of the linear trend term (units of rooms/night)."
    },
    {
      "metadata": {},
      "cell_type": "markdown",
      "source": "### Simulating occupancy (demand) for the next $N$ days\n\nWe will write an auxiliar function that simulated occupancy curves:\n\n$${O_t}{\\rm{ =  }}{O_{{\\rm{baseline}}}}{\\rm{  +  }}Tt{\\rm{  +  }}A{\\rm{cos}}\\left( {\\frac{{{\\rm{2}}\\pi }}{T}t{\\rm{  +  }}\\phi } \\right){\\rm{ +  }}\\sigma$$\n\n"
    },
    {
      "metadata": {
        "trusted": true
      },
      "cell_type": "code",
      "source": "def simulate_demand(nb_days, period=7.0, dc_level=68.0, noise_level=5.0,\n                    amplitude=3.0, phase=2.0*math.pi/7.0, trend=0.06):\n    \n    t = np.linspace(1,nb_days,nb_days)\n    noise = noise_level*np.random.normal(size=len(t))\n\n    demand = dc_level + trend*t + amplitude*np.cos(2.0*math.pi*t/period + phase) + noise\n\n    return demand",
      "execution_count": 13,
      "outputs": []
    },
    {
      "metadata": {},
      "cell_type": "markdown",
      "source": "For $T=90$ days:"
    },
    {
      "metadata": {
        "trusted": true
      },
      "cell_type": "code",
      "source": "date_start, date_end = '2019-07-01', '2019-09-30'\nnb_days = (pd.to_datetime(date_end) - pd.to_datetime(date_start)).days\n\nforecasted_demand = simulate_demand(nb_days, \n                                    dc_level=68,\n                                    noise_level=1.0, \n                                    amplitude=5)\n\nforecasted_demand = pd.DataFrame(forecasted_demand,\n                                 index=pd.date_range(start=date_start,\n                                                     end=date_end,\n                                                     closed='left'),\n                                 columns=['occupancy'])",
      "execution_count": 14,
      "outputs": []
    },
    {
      "metadata": {},
      "cell_type": "markdown",
      "source": "Plotting the occupancy forecastL"
    },
    {
      "metadata": {
        "trusted": true
      },
      "cell_type": "code",
      "source": "occupancy = [go.Scatter(x=forecasted_demand.index, y=forecasted_demand['occupancy'],\n                        name='Forecast of noktos Suite-A occupancy for the next 90 days')]\n\n\nlayout_occ = go.Layout(title='Forecast of noktos Suite-A occupancy for the next 90 days',\n                       xaxis=  {'title':'Day'},\n                       yaxis=  {'title':'Number of Rooms Occupied'},\n                       shapes=[{'type':'line',\n                                'x0':'2019-07-01',\n                                'x1':'2019-09-30',\n                                'y0':80.0, 'y1':80.0,\n                                'line': {'color': 'rgb(50, 171, 96)', \n                                         'width': 4, 'dash':'dash'}}])\n\nfig = go.Figure(data=occupancy, layout=layout_occ)\niplot(fig, filename='occ_ts')",
      "execution_count": 15,
      "outputs": [
        {
          "output_type": "display_data",
          "data": {
            "text/html": "<div>\n        \n        \n            <div id=\"27c86dd7-dc7e-4137-884e-99b60acacbc5\" class=\"plotly-graph-div\" style=\"height:525px; width:100%;\"></div>\n            <script type=\"text/javascript\">\n                require([\"plotly\"], function(Plotly) {\n                    window.PLOTLYENV=window.PLOTLYENV || {};\n                    window.PLOTLYENV.BASE_URL='https://plot.ly';\n                    \n                if (document.getElementById(\"27c86dd7-dc7e-4137-884e-99b60acacbc5\")) {\n                    Plotly.newPlot(\n                        '27c86dd7-dc7e-4137-884e-99b60acacbc5',\n                        [{\"name\": \"Forecast of noktos Suite-A occupancy for the next 90 days\", \"type\": \"scatter\", \"uid\": \"273f7cbe-92e0-47c4-a0d6-7a72f975419d\", \"x\": [\"2019-07-01\", \"2019-07-02\", \"2019-07-03\", \"2019-07-04\", \"2019-07-05\", \"2019-07-06\", \"2019-07-07\", \"2019-07-08\", \"2019-07-09\", \"2019-07-10\", \"2019-07-11\", \"2019-07-12\", \"2019-07-13\", \"2019-07-14\", \"2019-07-15\", \"2019-07-16\", \"2019-07-17\", \"2019-07-18\", \"2019-07-19\", \"2019-07-20\", \"2019-07-21\", \"2019-07-22\", \"2019-07-23\", \"2019-07-24\", \"2019-07-25\", \"2019-07-26\", \"2019-07-27\", \"2019-07-28\", \"2019-07-29\", \"2019-07-30\", \"2019-07-31\", \"2019-08-01\", \"2019-08-02\", \"2019-08-03\", \"2019-08-04\", \"2019-08-05\", \"2019-08-06\", \"2019-08-07\", \"2019-08-08\", \"2019-08-09\", \"2019-08-10\", \"2019-08-11\", \"2019-08-12\", \"2019-08-13\", \"2019-08-14\", \"2019-08-15\", \"2019-08-16\", \"2019-08-17\", \"2019-08-18\", \"2019-08-19\", \"2019-08-20\", \"2019-08-21\", \"2019-08-22\", \"2019-08-23\", \"2019-08-24\", \"2019-08-25\", \"2019-08-26\", \"2019-08-27\", \"2019-08-28\", \"2019-08-29\", \"2019-08-30\", \"2019-08-31\", \"2019-09-01\", \"2019-09-02\", \"2019-09-03\", \"2019-09-04\", \"2019-09-05\", \"2019-09-06\", \"2019-09-07\", \"2019-09-08\", \"2019-09-09\", \"2019-09-10\", \"2019-09-11\", \"2019-09-12\", \"2019-09-13\", \"2019-09-14\", \"2019-09-15\", \"2019-09-16\", \"2019-09-17\", \"2019-09-18\", \"2019-09-19\", \"2019-09-20\", \"2019-09-21\", \"2019-09-22\", \"2019-09-23\", \"2019-09-24\", \"2019-09-25\", \"2019-09-26\", \"2019-09-27\", \"2019-09-28\", \"2019-09-29\"], \"y\": [65.80522311761322, 64.15897652954081, 63.83519386227393, 67.74018709368801, 70.52346812157886, 73.06049362670716, 71.05811562027544, 67.61835401762858, 64.66264630208438, 63.776982918260536, 68.71098319283222, 71.54567283986243, 72.68496221871203, 72.80254912099826, 68.07338735529517, 64.37209879975046, 64.83017751817228, 67.67648507124926, 71.45406442222775, 74.06917325903865, 71.97427912247254, 69.41230673781675, 65.55835726639039, 64.57511045479558, 67.38900444946147, 72.73674057016335, 74.43236597656075, 72.25318940980529, 68.64286292286337, 63.1487040773752, 66.09943497165874, 68.00200705995923, 72.88087660901539, 74.78806311458494, 71.3984620446826, 68.27725319942239, 64.76145859114061, 63.87670001635102, 68.28494402327883, 73.32827237100648, 75.13283456933374, 73.07524368348155, 70.31092214154435, 65.52051640187261, 67.24171845978498, 69.82848692803367, 71.5248854954353, 75.1425201255287, 74.1315642025595, 68.88707333333052, 66.0002527751575, 65.6182623297451, 69.8066389997788, 73.51392938479984, 77.09020777943338, 74.31706506679434, 70.29179593731702, 67.95889298559608, 68.03798088699168, 69.61336163499782, 76.09114303656781, 76.08744258681013, 74.90532140489745, 69.81248274007511, 68.13563435635821, 67.45276344408768, 71.22390552021038, 75.71705693848244, 76.51619853680555, 77.06830886580707, 73.25634801511539, 69.42289854290102, 65.89037063059455, 70.89516591959351, 76.14877980098913, 77.72510053388037, 76.72699107953301, 72.20702914976755, 67.30234795148996, 67.33230519081212, 70.4642709196379, 74.61231984039844, 75.20349468950113, 76.08159709882278, 72.96385179224033, 67.87937157356086, 68.42210385178538, 73.99178043378568, 75.05203600392383, 77.98478706073595, 75.55335114295258]}],\n                        {\"shapes\": [{\"line\": {\"color\": \"rgb(50, 171, 96)\", \"dash\": \"dash\", \"width\": 4}, \"type\": \"line\", \"x0\": \"2019-07-01\", \"x1\": \"2019-09-30\", \"y0\": 80.0, \"y1\": 80.0}], \"title\": {\"text\": \"Forecast of noktos Suite-A occupancy for the next 90 days\"}, \"xaxis\": {\"title\": {\"text\": \"Day\"}}, \"yaxis\": {\"title\": {\"text\": \"Number of Rooms Occupied\"}}},\n                        {\"responsive\": true, \"plotlyServerURL\": \"https://plot.ly\", \"linkText\": \"Export to plot.ly\", \"showLink\": false}\n                    ).then(function(){\n                            \nvar gd = document.getElementById('27c86dd7-dc7e-4137-884e-99b60acacbc5');\nvar x = new MutationObserver(function (mutations, observer) {{\n        var display = window.getComputedStyle(gd).display;\n        if (!display || display === 'none') {{\n            console.log([gd, 'removed!']);\n            Plotly.purge(gd);\n            observer.disconnect();\n        }}\n}});\n\n// Listen for the removal of the full notebook cells\nvar notebookContainer = gd.closest('#notebook-container');\nif (notebookContainer) {{\n    x.observe(notebookContainer, {childList: true});\n}}\n\n// Listen for the clearing of the current output cell\nvar outputEl = gd.closest('.output');\nif (outputEl) {{\n    x.observe(outputEl, {childList: true});\n}}\n\n                        })\n                };\n                });\n            </script>\n        </div>",
            "application/vnd.plotly.v1+json": {
              "data": [
                {
                  "y": [
                    65.805223117613224,
                    64.158976529540809,
                    63.835193862273933,
                    67.740187093688007,
                    70.523468121578858,
                    73.060493626707157,
                    71.058115620275444,
                    67.618354017628576,
                    64.662646302084383,
                    63.776982918260536,
                    68.710983192832217,
                    71.545672839862434,
                    72.68496221871203,
                    72.802549120998265,
                    68.073387355295168,
                    64.372098799750461,
                    64.830177518172277,
                    67.67648507124926,
                    71.454064422227745,
                    74.069173259038649,
                    71.974279122472538,
                    69.412306737816749,
                    65.558357266390388,
                    64.575110454795578,
                    67.389004449461467,
                    72.736740570163349,
                    74.432365976560746,
                    72.253189409805287,
                    68.642862922863372,
                    63.1487040773752,
                    66.099434971658738,
                    68.002007059959226,
                    72.880876609015388,
                    74.788063114584943,
                    71.3984620446826,
                    68.27725319942239,
                    64.76145859114061,
                    63.876700016351023,
                    68.284944023278825,
                    73.328272371006477,
                    75.132834569333738,
                    73.075243683481546,
                    70.310922141544353,
                    65.520516401872612,
                    67.241718459784977,
                    69.828486928033669,
                    71.5248854954353,
                    75.1425201255287,
                    74.1315642025595,
                    68.88707333333052,
                    66.0002527751575,
                    65.6182623297451,
                    69.8066389997788,
                    73.513929384799837,
                    77.090207779433385,
                    74.317065066794342,
                    70.291795937317019,
                    67.95889298559608,
                    68.037980886991676,
                    69.613361634997815,
                    76.091143036567814,
                    76.087442586810127,
                    74.90532140489745,
                    69.812482740075112,
                    68.13563435635821,
                    67.45276344408768,
                    71.22390552021038,
                    75.717056938482443,
                    76.516198536805547,
                    77.068308865807069,
                    73.256348015115393,
                    69.422898542901024,
                    65.890370630594546,
                    70.895165919593509,
                    76.148779800989132,
                    77.725100533880365,
                    76.726991079533008,
                    72.20702914976755,
                    67.302347951489963,
                    67.332305190812122,
                    70.4642709196379,
                    74.612319840398442,
                    75.203494689501127,
                    76.081597098822783,
                    72.963851792240334,
                    67.87937157356086,
                    68.42210385178538,
                    73.991780433785678,
                    75.052036003923831,
                    77.984787060735954,
                    75.553351142952579
                  ],
                  "x": [
                    "2019-07-01",
                    "2019-07-02",
                    "2019-07-03",
                    "2019-07-04",
                    "2019-07-05",
                    "2019-07-06",
                    "2019-07-07",
                    "2019-07-08",
                    "2019-07-09",
                    "2019-07-10",
                    "2019-07-11",
                    "2019-07-12",
                    "2019-07-13",
                    "2019-07-14",
                    "2019-07-15",
                    "2019-07-16",
                    "2019-07-17",
                    "2019-07-18",
                    "2019-07-19",
                    "2019-07-20",
                    "2019-07-21",
                    "2019-07-22",
                    "2019-07-23",
                    "2019-07-24",
                    "2019-07-25",
                    "2019-07-26",
                    "2019-07-27",
                    "2019-07-28",
                    "2019-07-29",
                    "2019-07-30",
                    "2019-07-31",
                    "2019-08-01",
                    "2019-08-02",
                    "2019-08-03",
                    "2019-08-04",
                    "2019-08-05",
                    "2019-08-06",
                    "2019-08-07",
                    "2019-08-08",
                    "2019-08-09",
                    "2019-08-10",
                    "2019-08-11",
                    "2019-08-12",
                    "2019-08-13",
                    "2019-08-14",
                    "2019-08-15",
                    "2019-08-16",
                    "2019-08-17",
                    "2019-08-18",
                    "2019-08-19",
                    "2019-08-20",
                    "2019-08-21",
                    "2019-08-22",
                    "2019-08-23",
                    "2019-08-24",
                    "2019-08-25",
                    "2019-08-26",
                    "2019-08-27",
                    "2019-08-28",
                    "2019-08-29",
                    "2019-08-30",
                    "2019-08-31",
                    "2019-09-01",
                    "2019-09-02",
                    "2019-09-03",
                    "2019-09-04",
                    "2019-09-05",
                    "2019-09-06",
                    "2019-09-07",
                    "2019-09-08",
                    "2019-09-09",
                    "2019-09-10",
                    "2019-09-11",
                    "2019-09-12",
                    "2019-09-13",
                    "2019-09-14",
                    "2019-09-15",
                    "2019-09-16",
                    "2019-09-17",
                    "2019-09-18",
                    "2019-09-19",
                    "2019-09-20",
                    "2019-09-21",
                    "2019-09-22",
                    "2019-09-23",
                    "2019-09-24",
                    "2019-09-25",
                    "2019-09-26",
                    "2019-09-27",
                    "2019-09-28",
                    "2019-09-29"
                  ],
                  "type": "scatter",
                  "name": "Forecast of noktos Suite-A occupancy for the next 90 days",
                  "uid": "273f7cbe-92e0-47c4-a0d6-7a72f975419d"
                }
              ],
              "config": {
                "plotlyServerURL": "https://plot.ly",
                "linkText": "Export to plot.ly",
                "showLink": false
              },
              "layout": {
                "shapes": [
                  {
                    "y1": 80,
                    "y0": 80,
                    "line": {
                      "color": "rgb(50, 171, 96)",
                      "dash": "dash",
                      "width": 4
                    },
                    "x1": "2019-09-30",
                    "type": "line",
                    "x0": "2019-07-01"
                  }
                ],
                "yaxis": {
                  "title": {
                    "text": "Number of Rooms Occupied"
                  }
                },
                "xaxis": {
                  "title": {
                    "text": "Day"
                  }
                },
                "title": {
                  "text": "Forecast of noktos Suite-A occupancy for the next 90 days"
                }
              }
            }
          },
          "metadata": {}
        }
      ]
    },
    {
      "metadata": {},
      "cell_type": "markdown",
      "source": "We now need the relationship between price and demand. We choose the elasticity $e =−2$ hence the demand or occupancy function becomes:\n\n$$O(p) = O_{\\rm{nominal}}\\bigg( \\frac{p_{\\rm{nominal}}}{p} \\bigg)^{2} $$"
    },
    {
      "metadata": {
        "trusted": true
      },
      "cell_type": "code",
      "source": "# Let's assume a demand price elasticity function:\n\ndef demand_price_elasticity(price, nominal_demand, elasticity=-2.0, nominal_price=550.0):\n    \n    return nominal_demand * ( price / nominal_price ) ** (elasticity)",
      "execution_count": 16,
      "outputs": []
    },
    {
      "metadata": {},
      "cell_type": "markdown",
      "source": "The optimal prices for different capacity levels must obey the following constraints:\n- $O_j \\leq C_j$: the occupancy can't be greater than the number of available rooms $C_j$\n- $p_j \\ge 0$: prices cannot be negative\n\nThe objective function and constraints are given below."
    },
    {
      "metadata": {
        "trusted": true
      },
      "cell_type": "code",
      "source": "import scipy.optimize as optimize\n\n\ndef objective(p_t, nominal_demand=np.array([50,40,30,20]),\n              elasticity=-2.0, nominal_price=550.0):\n    return (-1.0 * np.sum( p_t * demand_price_elasticity(p_t, nominal_demand=nominal_demand,\n                                                        elasticity=elasticity,\n                                                        nominal_price=nominal_price) ))/100\n\ndef constraint_1(p_t):\n    \"\"\" This constraint ensures that the prices are positive.\n    \"\"\"\n    return p_t\n\n\ndef constraint_2(p_t, capacity=20, forecasted_demand=35.0,\n                 elasticity=-2.0, nominal_price=550.0):\n    return capacity - demand_price_elasticity(p_t, nominal_demand=forecasted_demand,\n                                                        elasticity=elasticity,\n                                                        nominal_price=nominal_price)",
      "execution_count": 17,
      "outputs": []
    },
    {
      "metadata": {},
      "cell_type": "markdown",
      "source": "Now I will select four overlapping capacity segments and minimize using the SLSQP  technique."
    },
    {
      "metadata": {
        "trusted": true
      },
      "cell_type": "code",
      "source": "capacities = [20.0, 40.0, 60.0, 80.0]\n\noptimization_results = {}\nfor capacity in capacities:\n\n    nominal_price = 550.0\n    nominal_demand = forecasted_demand['occupancy'].values\n    elasticity = -2.0\n    p_start = 500.0 * np.ones(len(nominal_demand))\n    bounds = tuple((10.0, 2000.0) for p in p_start)\n\n    constraints = ({'type': 'ineq', 'fun':  lambda x:  constraint_1(x)},\n               {'type': 'ineq', 'fun':  lambda x, capacity=capacity,\n                                           forecasted_demand=nominal_demand,\n                                           elasticity=elasticity,\n                                           nominal_price=nominal_price: constraint_2(x,capacity=capacity,\n                                                                                     forecasted_demand=nominal_demand,\n                                                                                     elasticity=elasticity,\n                                                                                     nominal_price=nominal_price)})\n\n    opt_results = optimize.minimize(objective, p_start, args=(nominal_demand,\n                                                              elasticity,\n                                                              nominal_price),\n                                    method='SLSQP', bounds=bounds,\n                                    constraints=constraints)\n\n    optimization_results[capacity] = opt_results",
      "execution_count": 18,
      "outputs": []
    },
    {
      "metadata": {
        "trusted": true
      },
      "cell_type": "code",
      "source": "time_array = np.linspace(1,len(nominal_demand),len(nominal_demand))\nrate_df = pd.DataFrame(index=time_array)\n\nfor capacity in optimization_results.keys():\n    rate_df = pd.concat([rate_df,\n                         pd.DataFrame(optimization_results[capacity]['x'],\n                                      columns=['{}'.format(capacity)],\n                                      index=time_array)],\n                        axis=1)\n\nrate_df.index.name = 'Day'\ndatelist = pd.date_range(start=date_start, end=date_end, closed='left').tolist()\nrate_df.index = [ x.date() for x in datelist]",
      "execution_count": 19,
      "outputs": []
    },
    {
      "metadata": {},
      "cell_type": "markdown",
      "source": "### Prices versus capacity levels\n\n\nThe table and the plot show prices per night and capacity levels. \n\nThe table below contains rates in terms of number of rooms still available e.g.\n- Column `Capacity left: 80.0` corresponds to the case where there are all 80 rooms left to book \n- Column `Capacity left: 20.0` represents the case where there are only 20 rooms left to book. \n\nThe prices and capacity move in oposite directions as expected."
    },
    {
      "metadata": {
        "trusted": true
      },
      "cell_type": "code",
      "source": "rate_df_to_show = rate_df.copy()\nrate_df_to_show = rate_df_to_show[np.sort(np.asarray(rate_df_to_show.columns))]\nrate_df_to_show.columns = ['Capacity left : {}'.format(x) for x in rate_df_to_show.columns]\nfor col in rate_df_to_show.columns:\n    rate_df_to_show[col] = rate_df_to_show[col].apply(lambda x: round(x,2))\ndow_map = { 6:'Sun', 0:'Mon', 1:'Tue', 2:'Wed', 3:'Thu', 4:'Fri', 5:'Sat'}\nrate_df_to_show['date'] = rate_df_to_show.index\nrate_df_to_show['dow'] = rate_df_to_show['date'].apply(lambda x: dow_map[x.weekday()])\nrate_df_to_show['date'] = rate_df_to_show.apply(lambda row: row['dow']+\" \"+str(row['date']),axis=1)\nrate_df_to_show.index = rate_df_to_show['date'].values\nrate_df_to_show.drop(['date','dow'],axis=1,inplace=True)\nrate_df_to_show.head(10)",
      "execution_count": 20,
      "outputs": [
        {
          "output_type": "execute_result",
          "execution_count": 20,
          "data": {
            "text/plain": "                Capacity left : 20.0  Capacity left : 40.0  \\\nMon 2019-07-01                997.65                705.44   \nTue 2019-07-02                985.09                696.56   \nWed 2019-07-03                982.60                694.80   \nThu 2019-07-04               1012.21                715.74   \nFri 2019-07-05               1032.80                730.30   \nSat 2019-07-06               1051.21                743.32   \nSun 2019-07-07               1036.70                733.06   \nMon 2019-07-08               1011.30                715.10   \nTue 2019-07-09                988.95                699.29   \nWed 2019-07-10                982.15                694.49   \n\n                Capacity left : 60.0  Capacity left : 80.0  \nMon 2019-07-01                575.99                498.82  \nTue 2019-07-02                568.74                492.55  \nWed 2019-07-03                567.31                491.30  \nThu 2019-07-04                584.40                506.11  \nFri 2019-07-05                596.29                516.40  \nSat 2019-07-06                606.92                525.60  \nSun 2019-07-07                598.54                518.35  \nMon 2019-07-08                583.87                505.65  \nTue 2019-07-09                570.97                494.48  \nWed 2019-07-10                567.05                491.08  ",
            "text/html": "<div>\n<style scoped>\n    .dataframe tbody tr th:only-of-type {\n        vertical-align: middle;\n    }\n\n    .dataframe tbody tr th {\n        vertical-align: top;\n    }\n\n    .dataframe thead th {\n        text-align: right;\n    }\n</style>\n<table border=\"1\" class=\"dataframe\">\n  <thead>\n    <tr style=\"text-align: right;\">\n      <th></th>\n      <th>Capacity left : 20.0</th>\n      <th>Capacity left : 40.0</th>\n      <th>Capacity left : 60.0</th>\n      <th>Capacity left : 80.0</th>\n    </tr>\n  </thead>\n  <tbody>\n    <tr>\n      <th>Mon 2019-07-01</th>\n      <td>997.65</td>\n      <td>705.44</td>\n      <td>575.99</td>\n      <td>498.82</td>\n    </tr>\n    <tr>\n      <th>Tue 2019-07-02</th>\n      <td>985.09</td>\n      <td>696.56</td>\n      <td>568.74</td>\n      <td>492.55</td>\n    </tr>\n    <tr>\n      <th>Wed 2019-07-03</th>\n      <td>982.60</td>\n      <td>694.80</td>\n      <td>567.31</td>\n      <td>491.30</td>\n    </tr>\n    <tr>\n      <th>Thu 2019-07-04</th>\n      <td>1012.21</td>\n      <td>715.74</td>\n      <td>584.40</td>\n      <td>506.11</td>\n    </tr>\n    <tr>\n      <th>Fri 2019-07-05</th>\n      <td>1032.80</td>\n      <td>730.30</td>\n      <td>596.29</td>\n      <td>516.40</td>\n    </tr>\n    <tr>\n      <th>Sat 2019-07-06</th>\n      <td>1051.21</td>\n      <td>743.32</td>\n      <td>606.92</td>\n      <td>525.60</td>\n    </tr>\n    <tr>\n      <th>Sun 2019-07-07</th>\n      <td>1036.70</td>\n      <td>733.06</td>\n      <td>598.54</td>\n      <td>518.35</td>\n    </tr>\n    <tr>\n      <th>Mon 2019-07-08</th>\n      <td>1011.30</td>\n      <td>715.10</td>\n      <td>583.87</td>\n      <td>505.65</td>\n    </tr>\n    <tr>\n      <th>Tue 2019-07-09</th>\n      <td>988.95</td>\n      <td>699.29</td>\n      <td>570.97</td>\n      <td>494.48</td>\n    </tr>\n    <tr>\n      <th>Wed 2019-07-10</th>\n      <td>982.15</td>\n      <td>694.49</td>\n      <td>567.05</td>\n      <td>491.08</td>\n    </tr>\n  </tbody>\n</table>\n</div>"
          },
          "metadata": {}
        }
      ]
    },
    {
      "metadata": {},
      "cell_type": "markdown",
      "source": "### Plotting the room rate time series."
    },
    {
      "metadata": {
        "trusted": true
      },
      "cell_type": "code",
      "source": "price_levels = [go.Scatter(x=rate_df_to_show.head(7).index,\n                           y=rate_df_to_show.head(7)['Capacity left : 20.0'],\n                           name='Capacity Remaining : 20 rooms'),\n                go.Scatter(x=rate_df_to_show.head(7).index,\n                           y=rate_df_to_show.head(7)['Capacity left : 40.0'],\n                           name='Capacity Remaining : 40 rooms'),\n                go.Scatter(x=rate_df_to_show.head(7).index,\n                           y=rate_df_to_show.head(7)['Capacity left : 60.0'],\n                           name='Capacity Remaining : 60 rooms'),\n                go.Scatter(x=rate_df_to_show.head(7).index,\n                           y=rate_df_to_show.head(7)['Capacity left : 80.0'],\n                           name='Capacity Remaining : 80 rooms')]\n\nlayout_prices = go.Layout(title='Rate vs Reservation Date and Current Capacity Levels',\n                       xaxis={'title':'Day'}, yaxis={'title':'Rate ($)'})\n\nfig = go.Figure(data=price_levels, layout=layout_prices)\niplot(fig, filename='price_levels_ts')",
      "execution_count": 21,
      "outputs": [
        {
          "output_type": "display_data",
          "data": {
            "text/html": "<div>\n        \n        \n            <div id=\"11142281-19f5-41ef-867b-0be29afbe524\" class=\"plotly-graph-div\" style=\"height:525px; width:100%;\"></div>\n            <script type=\"text/javascript\">\n                require([\"plotly\"], function(Plotly) {\n                    window.PLOTLYENV=window.PLOTLYENV || {};\n                    window.PLOTLYENV.BASE_URL='https://plot.ly';\n                    \n                if (document.getElementById(\"11142281-19f5-41ef-867b-0be29afbe524\")) {\n                    Plotly.newPlot(\n                        '11142281-19f5-41ef-867b-0be29afbe524',\n                        [{\"name\": \"Capacity Remaining : 20 rooms\", \"type\": \"scatter\", \"uid\": \"d84250c1-6609-4169-b577-d2f5d3e86639\", \"x\": [\"Mon 2019-07-01\", \"Tue 2019-07-02\", \"Wed 2019-07-03\", \"Thu 2019-07-04\", \"Fri 2019-07-05\", \"Sat 2019-07-06\", \"Sun 2019-07-07\"], \"y\": [997.65, 985.09, 982.6, 1012.21, 1032.8, 1051.21, 1036.7]}, {\"name\": \"Capacity Remaining : 40 rooms\", \"type\": \"scatter\", \"uid\": \"077b53e2-8e1c-402a-aa61-a2859844fd13\", \"x\": [\"Mon 2019-07-01\", \"Tue 2019-07-02\", \"Wed 2019-07-03\", \"Thu 2019-07-04\", \"Fri 2019-07-05\", \"Sat 2019-07-06\", \"Sun 2019-07-07\"], \"y\": [705.44, 696.56, 694.8, 715.74, 730.3, 743.32, 733.06]}, {\"name\": \"Capacity Remaining : 60 rooms\", \"type\": \"scatter\", \"uid\": \"3e5f4eaf-ea55-46aa-b66a-0d43d2df4ad5\", \"x\": [\"Mon 2019-07-01\", \"Tue 2019-07-02\", \"Wed 2019-07-03\", \"Thu 2019-07-04\", \"Fri 2019-07-05\", \"Sat 2019-07-06\", \"Sun 2019-07-07\"], \"y\": [575.99, 568.74, 567.31, 584.4, 596.29, 606.92, 598.54]}, {\"name\": \"Capacity Remaining : 80 rooms\", \"type\": \"scatter\", \"uid\": \"67f82748-e205-4c3d-8ef8-df8888facaf2\", \"x\": [\"Mon 2019-07-01\", \"Tue 2019-07-02\", \"Wed 2019-07-03\", \"Thu 2019-07-04\", \"Fri 2019-07-05\", \"Sat 2019-07-06\", \"Sun 2019-07-07\"], \"y\": [498.82, 492.55, 491.3, 506.11, 516.4, 525.6, 518.35]}],\n                        {\"title\": {\"text\": \"Rate vs Reservation Date and Current Capacity Levels\"}, \"xaxis\": {\"title\": {\"text\": \"Day\"}}, \"yaxis\": {\"title\": {\"text\": \"Rate ($)\"}}},\n                        {\"responsive\": true, \"plotlyServerURL\": \"https://plot.ly\", \"linkText\": \"Export to plot.ly\", \"showLink\": false}\n                    ).then(function(){\n                            \nvar gd = document.getElementById('11142281-19f5-41ef-867b-0be29afbe524');\nvar x = new MutationObserver(function (mutations, observer) {{\n        var display = window.getComputedStyle(gd).display;\n        if (!display || display === 'none') {{\n            console.log([gd, 'removed!']);\n            Plotly.purge(gd);\n            observer.disconnect();\n        }}\n}});\n\n// Listen for the removal of the full notebook cells\nvar notebookContainer = gd.closest('#notebook-container');\nif (notebookContainer) {{\n    x.observe(notebookContainer, {childList: true});\n}}\n\n// Listen for the clearing of the current output cell\nvar outputEl = gd.closest('.output');\nif (outputEl) {{\n    x.observe(outputEl, {childList: true});\n}}\n\n                        })\n                };\n                });\n            </script>\n        </div>",
            "application/vnd.plotly.v1+json": {
              "data": [
                {
                  "y": [
                    997.65,
                    985.09,
                    982.6,
                    1012.21,
                    1032.8,
                    1051.21,
                    1036.7
                  ],
                  "x": [
                    "Mon 2019-07-01",
                    "Tue 2019-07-02",
                    "Wed 2019-07-03",
                    "Thu 2019-07-04",
                    "Fri 2019-07-05",
                    "Sat 2019-07-06",
                    "Sun 2019-07-07"
                  ],
                  "type": "scatter",
                  "name": "Capacity Remaining : 20 rooms",
                  "uid": "d84250c1-6609-4169-b577-d2f5d3e86639"
                },
                {
                  "y": [
                    705.44,
                    696.56,
                    694.8,
                    715.74,
                    730.3,
                    743.32,
                    733.06
                  ],
                  "x": [
                    "Mon 2019-07-01",
                    "Tue 2019-07-02",
                    "Wed 2019-07-03",
                    "Thu 2019-07-04",
                    "Fri 2019-07-05",
                    "Sat 2019-07-06",
                    "Sun 2019-07-07"
                  ],
                  "type": "scatter",
                  "name": "Capacity Remaining : 40 rooms",
                  "uid": "077b53e2-8e1c-402a-aa61-a2859844fd13"
                },
                {
                  "y": [
                    575.99,
                    568.74,
                    567.31,
                    584.4,
                    596.29,
                    606.92,
                    598.54
                  ],
                  "x": [
                    "Mon 2019-07-01",
                    "Tue 2019-07-02",
                    "Wed 2019-07-03",
                    "Thu 2019-07-04",
                    "Fri 2019-07-05",
                    "Sat 2019-07-06",
                    "Sun 2019-07-07"
                  ],
                  "type": "scatter",
                  "name": "Capacity Remaining : 60 rooms",
                  "uid": "3e5f4eaf-ea55-46aa-b66a-0d43d2df4ad5"
                },
                {
                  "y": [
                    498.82,
                    492.55,
                    491.3,
                    506.11,
                    516.4,
                    525.6,
                    518.35
                  ],
                  "x": [
                    "Mon 2019-07-01",
                    "Tue 2019-07-02",
                    "Wed 2019-07-03",
                    "Thu 2019-07-04",
                    "Fri 2019-07-05",
                    "Sat 2019-07-06",
                    "Sun 2019-07-07"
                  ],
                  "type": "scatter",
                  "name": "Capacity Remaining : 80 rooms",
                  "uid": "67f82748-e205-4c3d-8ef8-df8888facaf2"
                }
              ],
              "config": {
                "plotlyServerURL": "https://plot.ly",
                "linkText": "Export to plot.ly",
                "showLink": false
              },
              "layout": {
                "yaxis": {
                  "title": {
                    "text": "Rate ($)"
                  }
                },
                "xaxis": {
                  "title": {
                    "text": "Day"
                  }
                },
                "title": {
                  "text": "Rate vs Reservation Date and Current Capacity Levels"
                }
              }
            }
          },
          "metadata": {}
        }
      ]
    },
    {
      "metadata": {
        "trusted": true
      },
      "cell_type": "markdown",
      "source": "Now we save results in a comma separated file."
    },
    {
      "metadata": {
        "trusted": true
      },
      "cell_type": "code",
      "source": "rate_df.to_csv('projected-rates.csv')",
      "execution_count": 22,
      "outputs": []
    }
  ],
  "metadata": {
    "kernelspec": {
      "name": "python36",
      "display_name": "Python 3.6",
      "language": "python"
    },
    "language_info": {
      "mimetype": "text/x-python",
      "nbconvert_exporter": "python",
      "name": "python",
      "pygments_lexer": "ipython3",
      "version": "3.6.6",
      "file_extension": ".py",
      "codemirror_mode": {
        "version": 3,
        "name": "ipython"
      }
    },
    "latex_envs": {
      "LaTeX_envs_menu_present": true,
      "autoclose": false,
      "autocomplete": true,
      "bibliofile": "biblio.bib",
      "cite_by": "apalike",
      "current_citInitial": 1,
      "eqLabelWithNumbers": true,
      "eqNumInitial": 1,
      "hotkeys": {
        "equation": "Ctrl-E",
        "itemize": "Ctrl-I"
      },
      "labels_anchors": false,
      "latex_user_defs": false,
      "report_style_numbering": false,
      "user_envs_cfg": false
    }
  },
  "nbformat": 4,
  "nbformat_minor": 2
}